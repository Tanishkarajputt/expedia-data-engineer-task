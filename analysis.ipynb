{
 "cells": [
  {
   "cell_type": "code",
   "execution_count": 1,
   "id": "1b1fff47-c9f2-4de5-8312-351d62cb097d",
   "metadata": {},
   "outputs": [],
   "source": [
    "# scripts/ingest_and_transform.py\n",
    "\n",
    "import pandas as pd"
   ]
  },
  {
   "cell_type": "code",
   "execution_count": 2,
   "id": "2bd62081-3416-4033-9404-7d369a1ebff5",
   "metadata": {},
   "outputs": [],
   "source": [
    "#Task 1: Load Data\n",
    "# Load sales data\n",
    "sales_df = pd.read_csv(r'C:\\Users\\DELL\\Desktop\\Expdia Data Engineer\\Data\\sales_data.csv')\n",
    "\n",
    "# Load product master data\n",
    "product_df = pd.read_csv(r'C:\\Users\\DELL\\Desktop\\Expdia Data Engineer\\Data\\product_master.csv')"
   ]
  },
  {
   "cell_type": "code",
   "execution_count": 3,
   "id": "b8791167-5fd9-439b-aa7b-b461352c355b",
   "metadata": {},
   "outputs": [
    {
     "name": "stdout",
     "output_type": "stream",
     "text": [
      "Sales Data Sample:\n",
      "   transaction_id store_id product_id  quantity_sold  sale_amount  \\\n",
      "0         TXN001     S001       P001              2          400   \n",
      "1         TXN002     S002       P003              1          200   \n",
      "\n",
      "  transaction_date  \n",
      "0       2024-12-01  \n",
      "1       2024-12-01  \n",
      "\n",
      "Product Master Data Sample:\n",
      "   product_id     category\n",
      "0       P001  Electronics\n",
      "1       P002      Fashion\n"
     ]
    }
   ],
   "source": [
    "# Print first few rows to confirm\n",
    "print(\"Sales Data Sample:\\n\", sales_df.head())\n",
    "print(\"\\nProduct Master Data Sample:\\n\", product_df.head())"
   ]
  },
  {
   "cell_type": "code",
   "execution_count": 4,
   "id": "820934da-e6bf-4e2e-8e57-64c692896ee6",
   "metadata": {},
   "outputs": [],
   "source": [
    "# Task 2: Data Cleaning & Transformation\n",
    "# Step 1: To clean the data(removes rows with any missing (NaN) values)\n",
    "sales_df.dropna(inplace = True)\n",
    "\n",
    "# Step 2: Filter out rows where sale_amount <= 0\n",
    "sales_df = sales_df[sales_df['sale_amount']  >  0]"
   ]
  },
  {
   "cell_type": "code",
   "execution_count": 5,
   "id": "7a3dfd06-e38a-402c-aace-b196fb794e9f",
   "metadata": {},
   "outputs": [],
   "source": [
    "# Step 3: convert 'transaction_date' to datetime\n",
    "sales_df['transaction_date'] = pd.to_datetime(sales_df['transaction_date'])\n",
    "\n",
    "# Step 3: add day_of _week column from the transaction_date\n",
    "sales_df['day_of_week'] = sales_df['transaction_date'].dt.day_name()"
   ]
  },
  {
   "cell_type": "code",
   "execution_count": 6,
   "id": "2735bddd-ebf1-41b1-abf1-d830620b2702",
   "metadata": {},
   "outputs": [
    {
     "name": "stdout",
     "output_type": "stream",
     "text": [
      "Sales Data:\n",
      "   transaction_id store_id product_id  quantity_sold  sale_amount  \\\n",
      "0         TXN001     S001       P001              2          400   \n",
      "1         TXN002     S002       P003              1          200   \n",
      "\n",
      "  transaction_date day_of_week  \n",
      "0       2024-12-01      Sunday  \n",
      "1       2024-12-01      Sunday  \n"
     ]
    }
   ],
   "source": [
    "# Print few rows to confirm\n",
    "print(\"Sales Data:\\n\", sales_df.head())"
   ]
  },
  {
   "cell_type": "code",
   "execution_count": 7,
   "id": "78c3b6d0-4d30-4f98-acc3-489a8b829101",
   "metadata": {},
   "outputs": [
    {
     "name": "stdout",
     "output_type": "stream",
     "text": [
      "Sales Data:\n",
      "   transaction_id store_id product_id  quantity_sold  sale_amount  \\\n",
      "0         TXN001     S001       P001              2          400   \n",
      "1         TXN002     S002       P003              1          200   \n",
      "\n",
      "  transaction_date day_of_week  revenue_per_unit  \n",
      "0       2024-12-01      Sunday             200.0  \n",
      "1       2024-12-01      Sunday             200.0  \n"
     ]
    }
   ],
   "source": [
    "# Step 4: To calculate revenue_per_unit \n",
    "sales_df['revenue_per_unit'] = sales_df['sale_amount'] / sales_df['quantity_sold'] \n",
    "\n",
    "# Print few rows to confirm\n",
    "print(\"Sales Data:\\n\", sales_df.head())"
   ]
  },
  {
   "cell_type": "code",
   "execution_count": 8,
   "id": "f533e3af-c27c-48bf-975d-62a0e0e87c9b",
   "metadata": {},
   "outputs": [
    {
     "name": "stdout",
     "output_type": "stream",
     "text": [
      "  store_id product_id  total_sales  total_quantity_sold\n",
      "0     S001       P001          400                    2\n",
      "1     S002       P003          200                    1\n"
     ]
    }
   ],
   "source": [
    "# Task 3: Generate Summary Reports\n",
    "# Step 1: Total sales and quantity sold grouped by store and product\n",
    "sales_summary = sales_df.groupby(['store_id', 'product_id']).agg(\n",
    "    total_sales = ('sale_amount', 'sum'),\n",
    "    total_quantity_sold = ('quantity_sold', 'sum')\n",
    ").reset_index()\n",
    "\n",
    "#print few rows to confirm \n",
    "print(sales_summary.head())"
   ]
  },
  {
   "cell_type": "code",
   "execution_count": 9,
   "id": "5ad1fc5e-f75f-45eb-a752-0d98d7bbd884",
   "metadata": {},
   "outputs": [
    {
     "name": "stdout",
     "output_type": "stream",
     "text": [
      "  product_id  total_revenue\n",
      "0       P001            400\n",
      "1       P003            200\n"
     ]
    }
   ],
   "source": [
    "# Step 2: Top 5 products by total revenue\n",
    "top_5_product = sales_df.groupby('product_id')['sale_amount'].sum().nlargest(5).reset_index()\n",
    "top_5_product.rename(columns={'sale_amount':'total_revenue'}, inplace = True)\n",
    "\n",
    "#print few rows to confirm \n",
    "print(top_5_product.head())"
   ]
  },
  {
   "cell_type": "code",
   "execution_count": 10,
   "id": "f9e8b762-10d3-4452-bd21-338adaa44879",
   "metadata": {},
   "outputs": [
    {
     "name": "stdout",
     "output_type": "stream",
     "text": [
      "  day_of_week  sale_amount\n",
      "0      Sunday          600\n"
     ]
    }
   ],
   "source": [
    "# Step 3: The day of the week with the highest overall sales\n",
    "sales_by_day = sales_df.groupby('day_of_week')['sale_amount'].sum().reset_index()\n",
    "\n",
    "# sort to find the top day \n",
    "top_day = sales_by_day.sort_values(by = 'sale_amount', ascending = False).head(1)\n",
    "\n",
    "# print the top day\n",
    "print(top_day)"
   ]
  },
  {
   "cell_type": "code",
   "execution_count": 11,
   "id": "d6241084-154c-402b-af82-d4605340743c",
   "metadata": {},
   "outputs": [],
   "source": [
    "sales_summary.to_csv('sales_summary.csv', index=False)\n",
    "top_5_product.to_csv('top_5_products.csv', index=False)\n",
    "sales_by_day.to_csv('sales_by_day.csv', index=False)"
   ]
  }
 ],
 "metadata": {
  "kernelspec": {
   "display_name": "Python 3",
   "language": "python",
   "name": "python3"
  },
  "language_info": {
   "codemirror_mode": {
    "name": "ipython",
    "version": 3
   },
   "file_extension": ".py",
   "mimetype": "text/x-python",
   "name": "python",
   "nbconvert_exporter": "python",
   "pygments_lexer": "ipython3",
   "version": "3.13.3"
  }
 },
 "nbformat": 4,
 "nbformat_minor": 5
}
